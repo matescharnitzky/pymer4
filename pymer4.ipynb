{
 "cells": [
  {
   "cell_type": "code",
   "execution_count": 2,
   "id": "3b577ee9-6ea5-4884-834d-3673eb3eb30e",
   "metadata": {},
   "outputs": [
    {
     "name": "stdout",
     "output_type": "stream",
     "text": [
      "   Group   IV1  DV_l         DV       IV2  IV3\n",
      "0      1  20.0     0   7.936508  4.563492  0.5\n",
      "1      1  20.0     0  15.277778  0.000000  1.0\n",
      "2      1  20.0     1   0.000000  0.000000  1.5\n",
      "3      1  20.0     1   9.523810  0.000000  0.5\n",
      "4      1  12.5     0   0.000000  0.000000  1.0\n"
     ]
    }
   ],
   "source": [
    "# import some basic libraries\n",
    "import os\n",
    "import pandas as pd\n",
    "\n",
    "# import utility function for sample data path\n",
    "from pymer4.utils import get_resource_path\n",
    "\n",
    "# Load and checkout sample data\n",
    "df = pd.read_csv(os.path.join(get_resource_path(), \"sample_data.csv\"))\n",
    "print(df.head())"
   ]
  },
  {
   "cell_type": "code",
   "execution_count": 3,
   "id": "73a231c6-c979-4ed7-9ba2-1602ee6173b8",
   "metadata": {},
   "outputs": [
    {
     "name": "stdout",
     "output_type": "stream",
     "text": [
      "Formula: DV~IV2+(IV2|Group)\n",
      "\n",
      "Family: gaussian\t Inference: parametric\n",
      "\n",
      "Number of observations: 564\t Groups: {'Group': 47.0}\n",
      "\n",
      "Log-likelihood: -2249.281 \t AIC: 4498.562\n",
      "\n",
      "Random effects:\n",
      "\n",
      "                 Name      Var     Std\n",
      "Group     (Intercept)  203.474  14.264\n",
      "Group             IV2    0.136   0.369\n",
      "Residual               121.535  11.024\n",
      "\n",
      "               IV1  IV2   Corr\n",
      "Group  (Intercept)  IV2 -0.585\n",
      "\n",
      "Fixed effects:\n",
      "\n",
      "             Estimate  2.5_ci  97.5_ci     SE      DF  T-stat  P-val  Sig\n",
      "(Intercept)    10.301   4.805   15.797  2.804  20.179   3.674  0.001   **\n",
      "IV2             0.682   0.556    0.808  0.064  42.389  10.598  0.000  ***\n"
     ]
    }
   ],
   "source": [
    "# Import the lmm model class\n",
    "from pymer4.models import Lmer\n",
    "\n",
    "# Initialize model instance using 1 predictor with random intercepts and slopes\n",
    "model = Lmer(\"DV ~ IV2 + (IV2|Group)\", data=df)\n",
    "\n",
    "# Fit it\n",
    "print(model.fit())"
   ]
  },
  {
   "cell_type": "code",
   "execution_count": null,
   "id": "620e76a1-63fb-4b76-b5c6-f40a9cde9782",
   "metadata": {},
   "outputs": [],
   "source": []
  }
 ],
 "metadata": {
  "kernelspec": {
   "display_name": "Python 3",
   "language": "python",
   "name": "python3"
  },
  "language_info": {
   "codemirror_mode": {
    "name": "ipython",
    "version": 3
   },
   "file_extension": ".py",
   "mimetype": "text/x-python",
   "name": "python",
   "nbconvert_exporter": "python",
   "pygments_lexer": "ipython3",
   "version": "3.8.8"
  }
 },
 "nbformat": 4,
 "nbformat_minor": 5
}
